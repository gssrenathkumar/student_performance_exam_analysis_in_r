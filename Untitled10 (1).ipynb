{
 "cells": [
  {
   "cell_type": "code",
   "execution_count": 1,
   "id": "7231299c-a28c-4614-8bfe-5fc72165084f",
   "metadata": {},
   "outputs": [],
   "source": [
    "# Predicting Math Scores with Linear Regression"
   ]
  },
  {
   "cell_type": "code",
   "execution_count": 10,
   "id": "f2834809-a4f0-4d12-8459-a25c8e5ad16f",
   "metadata": {},
   "outputs": [],
   "source": [
    "library(tidyverse) # metapackage with lots of helpful functions\n",
    "library(ggplot2)\n",
    "\n",
    "library(e1071)"
   ]
  },
  {
   "cell_type": "code",
   "execution_count": 11,
   "id": "f5309d73-319e-4c1c-b6e8-7ca071e380d0",
   "metadata": {},
   "outputs": [],
   "source": [
    "data <- read.csv(\"StudentsPerformance.csv\")"
   ]
  },
  {
   "cell_type": "code",
   "execution_count": 12,
   "id": "f1ec003c-2758-450d-8ef9-9ee84bb6a54c",
   "metadata": {},
   "outputs": [
    {
     "data": {
      "text/html": [
       "<table>\n",
       "<thead><tr><th scope=col>gender</th><th scope=col>race.ethnicity</th><th scope=col>parental.level.of.education</th><th scope=col>lunch</th><th scope=col>test.preparation.course</th><th scope=col>math.score</th><th scope=col>reading.score</th><th scope=col>writing.score</th></tr></thead>\n",
       "<tbody>\n",
       "\t<tr><td>female            </td><td>group B           </td><td>bachelor's degree </td><td>standard          </td><td>none              </td><td>72                </td><td>72                </td><td>74                </td></tr>\n",
       "\t<tr><td>female            </td><td>group C           </td><td>some college      </td><td>standard          </td><td>completed         </td><td>69                </td><td>90                </td><td>88                </td></tr>\n",
       "\t<tr><td>female            </td><td>group B           </td><td>master's degree   </td><td>standard          </td><td>none              </td><td>90                </td><td>95                </td><td>93                </td></tr>\n",
       "\t<tr><td>male              </td><td>group A           </td><td>associate's degree</td><td>free/reduced      </td><td>none              </td><td>47                </td><td>57                </td><td>44                </td></tr>\n",
       "\t<tr><td>male              </td><td>group C           </td><td>some college      </td><td>standard          </td><td>none              </td><td>76                </td><td>78                </td><td>75                </td></tr>\n",
       "\t<tr><td>female            </td><td>group B           </td><td>associate's degree</td><td>standard          </td><td>none              </td><td>71                </td><td>83                </td><td>78                </td></tr>\n",
       "</tbody>\n",
       "</table>\n"
      ],
      "text/latex": [
       "\\begin{tabular}{r|llllllll}\n",
       " gender & race.ethnicity & parental.level.of.education & lunch & test.preparation.course & math.score & reading.score & writing.score\\\\\n",
       "\\hline\n",
       "\t female             & group B            & bachelor's degree  & standard           & none               & 72                 & 72                 & 74                \\\\\n",
       "\t female             & group C            & some college       & standard           & completed          & 69                 & 90                 & 88                \\\\\n",
       "\t female             & group B            & master's degree    & standard           & none               & 90                 & 95                 & 93                \\\\\n",
       "\t male               & group A            & associate's degree & free/reduced       & none               & 47                 & 57                 & 44                \\\\\n",
       "\t male               & group C            & some college       & standard           & none               & 76                 & 78                 & 75                \\\\\n",
       "\t female             & group B            & associate's degree & standard           & none               & 71                 & 83                 & 78                \\\\\n",
       "\\end{tabular}\n"
      ],
      "text/markdown": [
       "\n",
       "| gender | race.ethnicity | parental.level.of.education | lunch | test.preparation.course | math.score | reading.score | writing.score |\n",
       "|---|---|---|---|---|---|---|---|\n",
       "| female             | group B            | bachelor's degree  | standard           | none               | 72                 | 72                 | 74                 |\n",
       "| female             | group C            | some college       | standard           | completed          | 69                 | 90                 | 88                 |\n",
       "| female             | group B            | master's degree    | standard           | none               | 90                 | 95                 | 93                 |\n",
       "| male               | group A            | associate's degree | free/reduced       | none               | 47                 | 57                 | 44                 |\n",
       "| male               | group C            | some college       | standard           | none               | 76                 | 78                 | 75                 |\n",
       "| female             | group B            | associate's degree | standard           | none               | 71                 | 83                 | 78                 |\n",
       "\n"
      ],
      "text/plain": [
       "  gender race.ethnicity parental.level.of.education lunch       \n",
       "1 female group B        bachelor's degree           standard    \n",
       "2 female group C        some college                standard    \n",
       "3 female group B        master's degree             standard    \n",
       "4 male   group A        associate's degree          free/reduced\n",
       "5 male   group C        some college                standard    \n",
       "6 female group B        associate's degree          standard    \n",
       "  test.preparation.course math.score reading.score writing.score\n",
       "1 none                    72         72            74           \n",
       "2 completed               69         90            88           \n",
       "3 none                    90         95            93           \n",
       "4 none                    47         57            44           \n",
       "5 none                    76         78            75           \n",
       "6 none                    71         83            78           "
      ]
     },
     "metadata": {},
     "output_type": "display_data"
    }
   ],
   "source": [
    "head(data)"
   ]
  },
  {
   "cell_type": "code",
   "execution_count": 13,
   "id": "2056c4a3-5a9c-4e00-83b9-c3faaa13da2d",
   "metadata": {},
   "outputs": [
    {
     "name": "stdout",
     "output_type": "stream",
     "text": [
      "'data.frame':\t1000 obs. of  8 variables:\n",
      " $ gender                     : Factor w/ 2 levels \"female\",\"male\": 1 1 1 2 2 1 1 2 2 1 ...\n",
      " $ race.ethnicity             : Factor w/ 5 levels \"group A\",\"group B\",..: 2 3 2 1 3 2 2 2 4 2 ...\n",
      " $ parental.level.of.education: Factor w/ 6 levels \"associate's degree\",..: 2 5 4 1 5 1 5 5 3 3 ...\n",
      " $ lunch                      : Factor w/ 2 levels \"free/reduced\",..: 2 2 2 1 2 2 2 1 1 1 ...\n",
      " $ test.preparation.course    : Factor w/ 2 levels \"completed\",\"none\": 2 1 2 2 2 2 1 2 1 2 ...\n",
      " $ math.score                 : int  72 69 90 47 76 71 88 40 64 38 ...\n",
      " $ reading.score              : int  72 90 95 57 78 83 95 43 64 60 ...\n",
      " $ writing.score              : int  74 88 93 44 75 78 92 39 67 50 ...\n"
     ]
    }
   ],
   "source": [
    "str(data)"
   ]
  },
  {
   "cell_type": "code",
   "execution_count": 14,
   "id": "f99f9972-efdd-4284-b4d1-75daae1855f2",
   "metadata": {},
   "outputs": [
    {
     "data": {
      "text/html": [
       "<ol class=list-inline>\n",
       "\t<li>1000</li>\n",
       "\t<li>8</li>\n",
       "</ol>\n"
      ],
      "text/latex": [
       "\\begin{enumerate*}\n",
       "\\item 1000\n",
       "\\item 8\n",
       "\\end{enumerate*}\n"
      ],
      "text/markdown": [
       "1. 1000\n",
       "2. 8\n",
       "\n",
       "\n"
      ],
      "text/plain": [
       "[1] 1000    8"
      ]
     },
     "metadata": {},
     "output_type": "display_data"
    }
   ],
   "source": [
    "dim(data)"
   ]
  },
  {
   "cell_type": "code",
   "execution_count": 15,
   "id": "47e8ef9f-fdb3-4ea3-84eb-6d6ad0907457",
   "metadata": {},
   "outputs": [
    {
     "data": {
      "text/html": [
       "<table>\n",
       "<thead><tr><th scope=col>gender</th><th scope=col>race.ethnicity</th><th scope=col>parental.level.of.education</th><th scope=col>lunch</th><th scope=col>test.preparation.course</th><th scope=col>math.score</th><th scope=col>reading.score</th><th scope=col>writing.score</th></tr></thead>\n",
       "<tbody>\n",
       "\t<tr><td>female            </td><td>group B           </td><td>bachelor's degree </td><td>standard          </td><td>none              </td><td>72                </td><td>72                </td><td>74                </td></tr>\n",
       "\t<tr><td>female            </td><td>group C           </td><td>some college      </td><td>standard          </td><td>completed         </td><td>69                </td><td>90                </td><td>88                </td></tr>\n",
       "\t<tr><td>female            </td><td>group B           </td><td>master's degree   </td><td>standard          </td><td>none              </td><td>90                </td><td>95                </td><td>93                </td></tr>\n",
       "\t<tr><td>male              </td><td>group A           </td><td>associate's degree</td><td>free/reduced      </td><td>none              </td><td>47                </td><td>57                </td><td>44                </td></tr>\n",
       "\t<tr><td>male              </td><td>group C           </td><td>some college      </td><td>standard          </td><td>none              </td><td>76                </td><td>78                </td><td>75                </td></tr>\n",
       "\t<tr><td>female            </td><td>group B           </td><td>associate's degree</td><td>standard          </td><td>none              </td><td>71                </td><td>83                </td><td>78                </td></tr>\n",
       "</tbody>\n",
       "</table>\n"
      ],
      "text/latex": [
       "\\begin{tabular}{r|llllllll}\n",
       " gender & race.ethnicity & parental.level.of.education & lunch & test.preparation.course & math.score & reading.score & writing.score\\\\\n",
       "\\hline\n",
       "\t female             & group B            & bachelor's degree  & standard           & none               & 72                 & 72                 & 74                \\\\\n",
       "\t female             & group C            & some college       & standard           & completed          & 69                 & 90                 & 88                \\\\\n",
       "\t female             & group B            & master's degree    & standard           & none               & 90                 & 95                 & 93                \\\\\n",
       "\t male               & group A            & associate's degree & free/reduced       & none               & 47                 & 57                 & 44                \\\\\n",
       "\t male               & group C            & some college       & standard           & none               & 76                 & 78                 & 75                \\\\\n",
       "\t female             & group B            & associate's degree & standard           & none               & 71                 & 83                 & 78                \\\\\n",
       "\\end{tabular}\n"
      ],
      "text/markdown": [
       "\n",
       "| gender | race.ethnicity | parental.level.of.education | lunch | test.preparation.course | math.score | reading.score | writing.score |\n",
       "|---|---|---|---|---|---|---|---|\n",
       "| female             | group B            | bachelor's degree  | standard           | none               | 72                 | 72                 | 74                 |\n",
       "| female             | group C            | some college       | standard           | completed          | 69                 | 90                 | 88                 |\n",
       "| female             | group B            | master's degree    | standard           | none               | 90                 | 95                 | 93                 |\n",
       "| male               | group A            | associate's degree | free/reduced       | none               | 47                 | 57                 | 44                 |\n",
       "| male               | group C            | some college       | standard           | none               | 76                 | 78                 | 75                 |\n",
       "| female             | group B            | associate's degree | standard           | none               | 71                 | 83                 | 78                 |\n",
       "\n"
      ],
      "text/plain": [
       "  gender race.ethnicity parental.level.of.education lunch       \n",
       "1 female group B        bachelor's degree           standard    \n",
       "2 female group C        some college                standard    \n",
       "3 female group B        master's degree             standard    \n",
       "4 male   group A        associate's degree          free/reduced\n",
       "5 male   group C        some college                standard    \n",
       "6 female group B        associate's degree          standard    \n",
       "  test.preparation.course math.score reading.score writing.score\n",
       "1 none                    72         72            74           \n",
       "2 completed               69         90            88           \n",
       "3 none                    90         95            93           \n",
       "4 none                    47         57            44           \n",
       "5 none                    76         78            75           \n",
       "6 none                    71         83            78           "
      ]
     },
     "metadata": {},
     "output_type": "display_data"
    }
   ],
   "source": [
    "head(data)"
   ]
  },
  {
   "cell_type": "code",
   "execution_count": 16,
   "id": "b334573a-1e6b-4bf4-b19d-4e1b50031e0c",
   "metadata": {},
   "outputs": [
    {
     "data": {
      "text/html": [
       "<table>\n",
       "<thead><tr><th></th><th scope=col>gender</th><th scope=col>race.ethnicity</th><th scope=col>parental.level.of.education</th><th scope=col>lunch</th><th scope=col>test.preparation.course</th><th scope=col>math.score</th><th scope=col>reading.score</th><th scope=col>writing.score</th></tr></thead>\n",
       "<tbody>\n",
       "\t<tr><th scope=row>995</th><td>male           </td><td>group A        </td><td>high school    </td><td>standard       </td><td>none           </td><td>63             </td><td>63             </td><td>62             </td></tr>\n",
       "\t<tr><th scope=row>996</th><td>female         </td><td>group E        </td><td>master's degree</td><td>standard       </td><td>completed      </td><td>88             </td><td>99             </td><td>95             </td></tr>\n",
       "\t<tr><th scope=row>997</th><td>male           </td><td>group C        </td><td>high school    </td><td>free/reduced   </td><td>none           </td><td>62             </td><td>55             </td><td>55             </td></tr>\n",
       "\t<tr><th scope=row>998</th><td>female         </td><td>group C        </td><td>high school    </td><td>free/reduced   </td><td>completed      </td><td>59             </td><td>71             </td><td>65             </td></tr>\n",
       "\t<tr><th scope=row>999</th><td>female         </td><td>group D        </td><td>some college   </td><td>standard       </td><td>completed      </td><td>68             </td><td>78             </td><td>77             </td></tr>\n",
       "\t<tr><th scope=row>1000</th><td>female         </td><td>group D        </td><td>some college   </td><td>free/reduced   </td><td>none           </td><td>77             </td><td>86             </td><td>86             </td></tr>\n",
       "</tbody>\n",
       "</table>\n"
      ],
      "text/latex": [
       "\\begin{tabular}{r|llllllll}\n",
       "  & gender & race.ethnicity & parental.level.of.education & lunch & test.preparation.course & math.score & reading.score & writing.score\\\\\n",
       "\\hline\n",
       "\t995 & male            & group A         & high school     & standard        & none            & 63              & 63              & 62             \\\\\n",
       "\t996 & female          & group E         & master's degree & standard        & completed       & 88              & 99              & 95             \\\\\n",
       "\t997 & male            & group C         & high school     & free/reduced    & none            & 62              & 55              & 55             \\\\\n",
       "\t998 & female          & group C         & high school     & free/reduced    & completed       & 59              & 71              & 65             \\\\\n",
       "\t999 & female          & group D         & some college    & standard        & completed       & 68              & 78              & 77             \\\\\n",
       "\t1000 & female          & group D         & some college    & free/reduced    & none            & 77              & 86              & 86             \\\\\n",
       "\\end{tabular}\n"
      ],
      "text/markdown": [
       "\n",
       "| <!--/--> | gender | race.ethnicity | parental.level.of.education | lunch | test.preparation.course | math.score | reading.score | writing.score |\n",
       "|---|---|---|---|---|---|---|---|---|\n",
       "| 995 | male            | group A         | high school     | standard        | none            | 63              | 63              | 62              |\n",
       "| 996 | female          | group E         | master's degree | standard        | completed       | 88              | 99              | 95              |\n",
       "| 997 | male            | group C         | high school     | free/reduced    | none            | 62              | 55              | 55              |\n",
       "| 998 | female          | group C         | high school     | free/reduced    | completed       | 59              | 71              | 65              |\n",
       "| 999 | female          | group D         | some college    | standard        | completed       | 68              | 78              | 77              |\n",
       "| 1000 | female          | group D         | some college    | free/reduced    | none            | 77              | 86              | 86              |\n",
       "\n"
      ],
      "text/plain": [
       "     gender race.ethnicity parental.level.of.education lunch       \n",
       "995  male   group A        high school                 standard    \n",
       "996  female group E        master's degree             standard    \n",
       "997  male   group C        high school                 free/reduced\n",
       "998  female group C        high school                 free/reduced\n",
       "999  female group D        some college                standard    \n",
       "1000 female group D        some college                free/reduced\n",
       "     test.preparation.course math.score reading.score writing.score\n",
       "995  none                    63         63            62           \n",
       "996  completed               88         99            95           \n",
       "997  none                    62         55            55           \n",
       "998  completed               59         71            65           \n",
       "999  completed               68         78            77           \n",
       "1000 none                    77         86            86           "
      ]
     },
     "metadata": {},
     "output_type": "display_data"
    }
   ],
   "source": [
    "tail(data)"
   ]
  },
  {
   "cell_type": "code",
   "execution_count": null,
   "id": "9175b0af-0ab3-4879-aa64-ed58fd815103",
   "metadata": {},
   "outputs": [],
   "source": []
  },
  {
   "cell_type": "code",
   "execution_count": 17,
   "id": "f796ed82-18e2-4bc2-a552-d7e0dc9ad293",
   "metadata": {},
   "outputs": [
    {
     "data": {
      "text/html": [
       "<table>\n",
       "<thead><tr><th scope=col>gender</th><th scope=col>race_ethnicity</th><th scope=col>parental_level_of_education</th><th scope=col>lunch</th><th scope=col>test_preparation_course </th><th scope=col>math_score</th><th scope=col>reading_score</th><th scope=col>writing_score</th></tr></thead>\n",
       "<tbody>\n",
       "\t<tr><td>female            </td><td>group B           </td><td>bachelor's degree </td><td>standard          </td><td>none              </td><td>72                </td><td>72                </td><td>74                </td></tr>\n",
       "\t<tr><td>female            </td><td>group C           </td><td>some college      </td><td>standard          </td><td>completed         </td><td>69                </td><td>90                </td><td>88                </td></tr>\n",
       "\t<tr><td>female            </td><td>group B           </td><td>master's degree   </td><td>standard          </td><td>none              </td><td>90                </td><td>95                </td><td>93                </td></tr>\n",
       "\t<tr><td>male              </td><td>group A           </td><td>associate's degree</td><td>free/reduced      </td><td>none              </td><td>47                </td><td>57                </td><td>44                </td></tr>\n",
       "\t<tr><td>male              </td><td>group C           </td><td>some college      </td><td>standard          </td><td>none              </td><td>76                </td><td>78                </td><td>75                </td></tr>\n",
       "\t<tr><td>female            </td><td>group B           </td><td>associate's degree</td><td>standard          </td><td>none              </td><td>71                </td><td>83                </td><td>78                </td></tr>\n",
       "</tbody>\n",
       "</table>\n"
      ],
      "text/latex": [
       "\\begin{tabular}{r|llllllll}\n",
       " gender & race\\_ethnicity & parental\\_level\\_of\\_education & lunch & test\\_preparation\\_course  & math\\_score & reading\\_score & writing\\_score\\\\\n",
       "\\hline\n",
       "\t female             & group B            & bachelor's degree  & standard           & none               & 72                 & 72                 & 74                \\\\\n",
       "\t female             & group C            & some college       & standard           & completed          & 69                 & 90                 & 88                \\\\\n",
       "\t female             & group B            & master's degree    & standard           & none               & 90                 & 95                 & 93                \\\\\n",
       "\t male               & group A            & associate's degree & free/reduced       & none               & 47                 & 57                 & 44                \\\\\n",
       "\t male               & group C            & some college       & standard           & none               & 76                 & 78                 & 75                \\\\\n",
       "\t female             & group B            & associate's degree & standard           & none               & 71                 & 83                 & 78                \\\\\n",
       "\\end{tabular}\n"
      ],
      "text/markdown": [
       "\n",
       "| gender | race_ethnicity | parental_level_of_education | lunch | test_preparation_course  | math_score | reading_score | writing_score |\n",
       "|---|---|---|---|---|---|---|---|\n",
       "| female             | group B            | bachelor's degree  | standard           | none               | 72                 | 72                 | 74                 |\n",
       "| female             | group C            | some college       | standard           | completed          | 69                 | 90                 | 88                 |\n",
       "| female             | group B            | master's degree    | standard           | none               | 90                 | 95                 | 93                 |\n",
       "| male               | group A            | associate's degree | free/reduced       | none               | 47                 | 57                 | 44                 |\n",
       "| male               | group C            | some college       | standard           | none               | 76                 | 78                 | 75                 |\n",
       "| female             | group B            | associate's degree | standard           | none               | 71                 | 83                 | 78                 |\n",
       "\n"
      ],
      "text/plain": [
       "  gender race_ethnicity parental_level_of_education lunch       \n",
       "1 female group B        bachelor's degree           standard    \n",
       "2 female group C        some college                standard    \n",
       "3 female group B        master's degree             standard    \n",
       "4 male   group A        associate's degree          free/reduced\n",
       "5 male   group C        some college                standard    \n",
       "6 female group B        associate's degree          standard    \n",
       "  test_preparation_course  math_score reading_score writing_score\n",
       "1 none                     72         72            74           \n",
       "2 completed                69         90            88           \n",
       "3 none                     90         95            93           \n",
       "4 none                     47         57            44           \n",
       "5 none                     76         78            75           \n",
       "6 none                     71         83            78           "
      ]
     },
     "metadata": {},
     "output_type": "display_data"
    }
   ],
   "source": [
    "colnames(data) <- c(\"gender\", \"race_ethnicity\", \"parental_level_of_education\", \"lunch\", \"test_preparation_course \", \"math_score\",\n",
    "                    \"reading_score\", \"writing_score\")\n",
    "head(data)"
   ]
  },
  {
   "cell_type": "code",
   "execution_count": 18,
   "id": "0494391c-1e20-4fb0-bdeb-01ea192f94f5",
   "metadata": {},
   "outputs": [
    {
     "data": {
      "text/html": [
       "FALSE"
      ],
      "text/latex": [
       "FALSE"
      ],
      "text/markdown": [
       "FALSE"
      ],
      "text/plain": [
       "[1] FALSE"
      ]
     },
     "metadata": {},
     "output_type": "display_data"
    }
   ],
   "source": [
    "any(is.na(data))"
   ]
  },
  {
   "cell_type": "code",
   "execution_count": 19,
   "id": "530f4273-f628-4f65-913b-b90661d5a194",
   "metadata": {},
   "outputs": [
    {
     "data": {
      "text/plain": [
       "    gender    race_ethnicity     parental_level_of_education          lunch    \n",
       " female:518   group A: 89    associate's degree:222          free/reduced:355  \n",
       " male  :482   group B:190    bachelor's degree :118          standard    :645  \n",
       "              group C:319    high school       :196                            \n",
       "              group D:262    master's degree   : 59                            \n",
       "              group E:140    some college      :226                            \n",
       "                             some high school  :179                            \n",
       " test_preparation_course    math_score     reading_score    writing_score   \n",
       " completed:358            Min.   :  0.00   Min.   : 17.00   Min.   : 10.00  \n",
       " none     :642            1st Qu.: 57.00   1st Qu.: 59.00   1st Qu.: 57.75  \n",
       "                          Median : 66.00   Median : 70.00   Median : 69.00  \n",
       "                          Mean   : 66.09   Mean   : 69.17   Mean   : 68.05  \n",
       "                          3rd Qu.: 77.00   3rd Qu.: 79.00   3rd Qu.: 79.00  \n",
       "                          Max.   :100.00   Max.   :100.00   Max.   :100.00  "
      ]
     },
     "metadata": {},
     "output_type": "display_data"
    }
   ],
   "source": [
    "summary(data)"
   ]
  },
  {
   "cell_type": "code",
   "execution_count": 20,
   "id": "e83842bf-9251-4ff1-8a3b-39545d5406e8",
   "metadata": {},
   "outputs": [
    {
     "data": {
      "image/png": "[encoded data removed]",
      "text/plain": [
       "Plot with title \"Math ~ Reading\""
      ]
     },
     "metadata": {},
     "output_type": "display_data"
    }
   ],
   "source": [
    "scatter.smooth(x=data$math_score, y=data$reading_score, main=\"Math ~ Reading\")"
   ]
  },
  {
   "cell_type": "code",
   "execution_count": 21,
   "id": "ce9a5509-bb4e-46ec-a9a9-2b63f06f34aa",
   "metadata": {},
   "outputs": [
    {
     "data": {
      "image/png": "[encoded data removed]",
      "text/plain": [
       "Plot with title \"Math ~ Writing\""
      ]
     },
     "metadata": {},
     "output_type": "display_data"
    }
   ],
   "source": [
    "scatter.smooth(x=data$math_score, y=data$writing_score, main=\"Math ~ Writing\")"
   ]
  },
  {
   "cell_type": "code",
   "execution_count": 22,
   "id": "d3b60a2b-5050-4e55-acf3-f8ce2a606350",
   "metadata": {},
   "outputs": [
    {
     "data": {
      "image/png": "[encoded data removed]",
      "text/plain": [
       "Plot with title \"Density Plot: writing_score\""
      ]
     },
     "metadata": {},
     "output_type": "display_data"
    }
   ],
   "source": [
    "par(mfrow=c(3, 1))\n",
    "plot(density(data$math_score), main=\"Density Plot: math_score\", ylab=\"Frequency\", sub=paste(\"Skewness:\", round(e1071::skewness(data$math_score), 2)))\n",
    "polygon(density(data$math_score), col=\"red\")\n",
    "\n",
    "plot(density(data$reading_score), main=\"Density Plot: reading_score\", ylab=\"Frequency\", sub=paste(\"Skewness:\", round(e1071::skewness(data$reading_score),\n",
    "                                                                                                                     2)))  # density plot for 'dist'\n",
    "polygon(density(data$reading_score), col=\"red\")\n",
    "plot(density(data$writing_score), main=\"Density Plot: writing_score\", ylab=\"Frequency\", sub=paste(\"Skewness:\", round(e1071::skewness(data$writing_score), \n",
    "                                                                                                                     2)))  # density plot for 'dist'\n",
    "polygon(density(data$writing_score), col=\"red\")"
   ]
  },
  {
   "cell_type": "markdown",
   "id": "ba1f60be-f0f2-4456-a066-8c1c0cd6d21e",
   "metadata": {},
   "source": [
    "# Single Linear Regression"
   ]
  },
  {
   "cell_type": "code",
   "execution_count": 23,
   "id": "bd8f0543-1413-4db7-8bd6-54a80b4e7eb3",
   "metadata": {},
   "outputs": [],
   "source": [
    "#Basic Linear Regression\n",
    "#Predicting math score with reading score"
   ]
  },
  {
   "cell_type": "code",
   "execution_count": 24,
   "id": "be4f031b-52bf-4738-b5c1-11568a1e3f40",
   "metadata": {},
   "outputs": [
    {
     "name": "stdout",
     "output_type": "stream",
     "text": [
      "\n",
      "Call:\n",
      "lm(formula = math_score ~ reading_score, data = data)\n",
      "\n",
      "Coefficients:\n",
      "  (Intercept)  reading_score  \n",
      "       7.3576         0.8491  \n",
      "\n"
     ]
    }
   ],
   "source": [
    "model <- lm(math_score ~ reading_score, data=data)\n",
    "print(model)"
   ]
  },
  {
   "cell_type": "code",
   "execution_count": 25,
   "id": "8ca885a9-2ea0-497a-b662-e8c086703fe2",
   "metadata": {},
   "outputs": [],
   "source": [
    "# The model Predicts this formula below:"
   ]
  },
  {
   "cell_type": "code",
   "execution_count": 26,
   "id": "3d7a0e6f-18fe-410e-b54b-9f220b3992ab",
   "metadata": {},
   "outputs": [],
   "source": [
    "#math_score = 7.3576 + 0.8491∗ reading_score"
   ]
  },
  {
   "cell_type": "code",
   "execution_count": 27,
   "id": "88d29688-c6ed-4fef-b929-152b6ebdcd39",
   "metadata": {},
   "outputs": [
    {
     "data": {
      "text/plain": [
       "\n",
       "Call:\n",
       "lm(formula = math_score ~ reading_score, data = data)\n",
       "\n",
       "Residuals:\n",
       "     Min       1Q   Median       3Q      Max \n",
       "-24.3419  -6.3419  -0.0221   6.2713  24.6581 \n",
       "\n",
       "Coefficients:\n",
       "              Estimate Std. Error t value Pr(>|t|)    \n",
       "(Intercept)    7.35759    1.33818   5.498 4.87e-08 ***\n",
       "reading_score  0.84910    0.01893  44.855  < 2e-16 ***\n",
       "---\n",
       "Signif. codes:  0 '***' 0.001 '**' 0.01 '*' 0.05 '.' 0.1 ' ' 1\n",
       "\n",
       "Residual standard error: 8.736 on 998 degrees of freedom\n",
       "Multiple R-squared:  0.6684,\tAdjusted R-squared:  0.6681 \n",
       "F-statistic:  2012 on 1 and 998 DF,  p-value: < 2.2e-16\n"
      ]
     },
     "metadata": {},
     "output_type": "display_data"
    }
   ],
   "source": [
    "summary(model)"
   ]
  },
  {
   "cell_type": "code",
   "execution_count": 31,
   "id": "f7b6b9af-e165-4f8e-913e-3033a9265eea",
   "metadata": {},
   "outputs": [
    {
     "data": {
      "text/html": [
       "<strong>1:</strong> 83.7766063106701"
      ],
      "text/latex": [
       "\\textbf{1:} 83.7766063106701"
      ],
      "text/markdown": [
       "**1:** 83.7766063106701"
      ],
      "text/plain": [
       "       1 \n",
       "83.77661 "
      ]
     },
     "metadata": {},
     "output_type": "display_data"
    }
   ],
   "source": [
    "a<-data.frame(reading_score=90)\n",
    "predicted_value=predict(model,a)\n",
    "predicted_value"
   ]
  },
  {
   "cell_type": "code",
   "execution_count": 36,
   "id": "45f76d7e-2e77-42b9-8425-01d171de142a",
   "metadata": {},
   "outputs": [
    {
     "data": {
      "text/html": [
       "20.6478715883146"
      ],
      "text/latex": [
       "20.6478715883146"
      ],
      "text/markdown": [
       "20.6478715883146"
      ],
      "text/plain": [
       "[1] 20.64787"
      ]
     },
     "metadata": {},
     "output_type": "display_data"
    }
   ],
   "source": [
    "# Accuracy\n",
    "sqrt(mean((data$reading_score-predicted_value)^2))"
   ]
  },
  {
   "cell_type": "code",
   "execution_count": 39,
   "id": "1d5a1070-f98c-4d35-afd2-814fa6f4712c",
   "metadata": {},
   "outputs": [
    {
     "data": {
      "image/png": "[encoded data removed]",
      "text/plain": [
       "Plot with title \"Math ~ Reading\""
      ]
     },
     "metadata": {},
     "output_type": "display_data"
    }
   ],
   "source": [
    "scatter.smooth(x=data$math_score, y=data$reading_score, main=\"Math ~ Reading\")"
   ]
  },
  {
   "cell_type": "code",
   "execution_count": 40,
   "id": "922d9c08-7b1c-457f-9fe2-3617e84faa63",
   "metadata": {},
   "outputs": [],
   "source": [
    "# Predicting math score with writing score"
   ]
  },
  {
   "cell_type": "code",
   "execution_count": 41,
   "id": "f39da6b6-a81f-494e-b797-5dd6d8f1d26c",
   "metadata": {},
   "outputs": [
    {
     "name": "stdout",
     "output_type": "stream",
     "text": [
      "\n",
      "Call:\n",
      "lm(formula = math_score ~ writing_score, data = data)\n",
      "\n",
      "Coefficients:\n",
      "  (Intercept)  writing_score  \n",
      "      11.5831         0.8009  \n",
      "\n"
     ]
    }
   ],
   "source": [
    "model2 <- lm(math_score ~ writing_score, data=data)\n",
    "print(model2)"
   ]
  },
  {
   "cell_type": "code",
   "execution_count": null,
   "id": "fb5da191-a460-4a24-b6a3-b3cfb7e12e35",
   "metadata": {},
   "outputs": [],
   "source": [
    "# Formula: math_score = 11.5831 + 0.8009∗writing_score"
   ]
  },
  {
   "cell_type": "code",
   "execution_count": 43,
   "id": "f212ea6c-fc11-445c-a1db-274926e43b7f",
   "metadata": {},
   "outputs": [
    {
     "data": {
      "text/plain": [
       "\n",
       "Call:\n",
       "lm(formula = math_score ~ writing_score, data = data)\n",
       "\n",
       "Residuals:\n",
       "     Min       1Q   Median       3Q      Max \n",
       "-24.8467  -6.4600   0.1464   6.4356  25.5515 \n",
       "\n",
       "Coefficients:\n",
       "              Estimate Std. Error t value Pr(>|t|)    \n",
       "(Intercept)   11.58310    1.31369   8.817   <2e-16 ***\n",
       "writing_score  0.80092    0.01884  42.511   <2e-16 ***\n",
       "---\n",
       "Signif. codes:  0 '***' 0.001 '**' 0.01 '*' 0.05 '.' 0.1 ' ' 1\n",
       "\n",
       "Residual standard error: 9.049 on 998 degrees of freedom\n",
       "Multiple R-squared:  0.6442,\tAdjusted R-squared:  0.6439 \n",
       "F-statistic:  1807 on 1 and 998 DF,  p-value: < 2.2e-16\n"
      ]
     },
     "metadata": {},
     "output_type": "display_data"
    }
   ],
   "source": [
    "summary(model2)"
   ]
  },
  {
   "cell_type": "code",
   "execution_count": 44,
   "id": "097c2638-8649-4db7-bddd-38c250667c89",
   "metadata": {},
   "outputs": [
    {
     "data": {
      "text/html": [
       "<strong>1:</strong> 75.6568060570767"
      ],
      "text/latex": [
       "\\textbf{1:} 75.6568060570767"
      ],
      "text/markdown": [
       "**1:** 75.6568060570767"
      ],
      "text/plain": [
       "       1 \n",
       "75.65681 "
      ]
     },
     "metadata": {},
     "output_type": "display_data"
    }
   ],
   "source": [
    "b<-data.frame(writing_score=80)\n",
    "predicted_value_two=predict(model2,b)\n",
    "predicted_value_two"
   ]
  },
  {
   "cell_type": "code",
   "execution_count": 45,
   "id": "e5bb3ec6-5e41-417b-8c91-40e3460895d1",
   "metadata": {},
   "outputs": [
    {
     "data": {
      "text/html": [
       "16.9846914585318"
      ],
      "text/latex": [
       "16.9846914585318"
      ],
      "text/markdown": [
       "16.9846914585318"
      ],
      "text/plain": [
       "[1] 16.98469"
      ]
     },
     "metadata": {},
     "output_type": "display_data"
    }
   ],
   "source": [
    "# Accuracy\n",
    "sqrt(mean((data$writing_score-predicted_value_two)^2))"
   ]
  },
  {
   "cell_type": "code",
   "execution_count": 46,
   "id": "460a2839-9ae1-48ee-a009-c0116edf3c0a",
   "metadata": {},
   "outputs": [
    {
     "data": {
      "image/png": "[encoded data removed]",
      "text/plain": [
       "Plot with title \"Math ~ Writing\""
      ]
     },
     "metadata": {},
     "output_type": "display_data"
    }
   ],
   "source": [
    "scatter.smooth(x=data$math_score, y=data$writing_score, main=\"Math ~ Writing\")"
   ]
  },
  {
   "cell_type": "markdown",
   "id": "c2f173bf-37c1-426e-a8f0-547eacef2d94",
   "metadata": {},
   "source": [
    "# Multiple Linear Regression"
   ]
  },
  {
   "cell_type": "code",
   "execution_count": 47,
   "id": "ad388a54-c266-423e-ab0f-07b61d6f8019",
   "metadata": {},
   "outputs": [],
   "source": [
    "# Predicting math scores for reading and writing scores"
   ]
  },
  {
   "cell_type": "code",
   "execution_count": 48,
   "id": "477a095c-191b-4cd7-97dc-81771e464136",
   "metadata": {},
   "outputs": [
    {
     "name": "stdout",
     "output_type": "stream",
     "text": [
      "\n",
      "Call:\n",
      "lm(formula = math_score ~ reading_score + writing_score, data = data)\n",
      "\n",
      "Coefficients:\n",
      "  (Intercept)  reading_score  writing_score  \n",
      "       7.5241         0.6013         0.2494  \n",
      "\n"
     ]
    }
   ],
   "source": [
    "model3 <- lm(math_score ~ reading_score + writing_score, data=data)\n",
    "print(model3)"
   ]
  },
  {
   "cell_type": "code",
   "execution_count": 49,
   "id": "7f3811a7-f069-40d0-babf-281369c9ee5d",
   "metadata": {},
   "outputs": [],
   "source": [
    "# Formula:\n",
    "#math_score = 7.5241 + 0.6013∗reading_score + 0.2494∗writing_score"
   ]
  },
  {
   "cell_type": "code",
   "execution_count": 50,
   "id": "e58c969f-806b-46cf-a44a-bf450a0d7663",
   "metadata": {},
   "outputs": [
    {
     "data": {
      "text/plain": [
       "\n",
       "Call:\n",
       "lm(formula = math_score ~ reading_score + writing_score, data = data)\n",
       "\n",
       "Residuals:\n",
       "     Min       1Q   Median       3Q      Max \n",
       "-23.8779  -6.1750   0.2693   6.0184  24.8727 \n",
       "\n",
       "Coefficients:\n",
       "              Estimate Std. Error t value Pr(>|t|)    \n",
       "(Intercept)    7.52409    1.32823   5.665 1.93e-08 ***\n",
       "reading_score  0.60129    0.06304   9.538  < 2e-16 ***\n",
       "writing_score  0.24942    0.06057   4.118 4.14e-05 ***\n",
       "---\n",
       "Signif. codes:  0 '***' 0.001 '**' 0.01 '*' 0.05 '.' 0.1 ' ' 1\n",
       "\n",
       "Residual standard error: 8.667 on 997 degrees of freedom\n",
       "Multiple R-squared:  0.674,\tAdjusted R-squared:  0.6733 \n",
       "F-statistic:  1031 on 2 and 997 DF,  p-value: < 2.2e-16\n"
      ]
     },
     "metadata": {},
     "output_type": "display_data"
    }
   ],
   "source": [
    "summary(model3)"
   ]
  },
  {
   "cell_type": "code",
   "execution_count": 51,
   "id": "a98dd54e-5243-4cab-b358-2a27158d24a6",
   "metadata": {},
   "outputs": [],
   "source": [
    "b<-data.frame(reading_score=90,writing_score=88)\n",
    "predicted_value_three=predict(model3,b)"
   ]
  },
  {
   "cell_type": "code",
   "execution_count": 52,
   "id": "39678bb5-0bcc-4f56-b762-2495610afa4c",
   "metadata": {},
   "outputs": [
    {
     "data": {
      "text/html": [
       "<strong>1:</strong> 83.5894767553443"
      ],
      "text/latex": [
       "\\textbf{1:} 83.5894767553443"
      ],
      "text/markdown": [
       "**1:** 83.5894767553443"
      ],
      "text/plain": [
       "       1 \n",
       "83.58948 "
      ]
     },
     "metadata": {},
     "output_type": "display_data"
    }
   ],
   "source": [
    "predicted_value_three"
   ]
  },
  {
   "cell_type": "code",
   "execution_count": 58,
   "id": "bf7aefc6-be56-45f9-a947-8d7eabfe655d",
   "metadata": {},
   "outputs": [
    {
     "data": {
      "text/html": [
       "'72.1507184697224'"
      ],
      "text/latex": [
       "'72.1507184697224'"
      ],
      "text/markdown": [
       "'72.1507184697224'"
      ],
      "text/plain": [
       "[1] \"72.1507184697224\""
      ]
     },
     "metadata": {},
     "output_type": "display_data"
    }
   ],
   "source": [
    "# Accuracy\n",
    "sqrt(mean((data$math_score-predicted_value_three)^2))"
   ]
  },
  {
   "cell_type": "code",
   "execution_count": null,
   "id": "61cb6846-e217-459a-8e45-9fcb57f087e9",
   "metadata": {},
   "outputs": [],
   "source": []
  }
 ],
 "metadata": {
  "kernelspec": {
   "display_name": "Python 3 (ipykernel)",
   "language": "python",
   "name": "python3"
  },
  "language_info": {
   "codemirror_mode": {
    "name": "ipython",
    "version": 3
   },
   "file_extension": ".py",
   "mimetype": "text/x-python",
   "name": "python",
   "nbconvert_exporter": "python",
   "pygments_lexer": "ipython3",
   "version": "3.9.7"
  }
 },
 "nbformat": 4,
 "nbformat_minor": 5
}
